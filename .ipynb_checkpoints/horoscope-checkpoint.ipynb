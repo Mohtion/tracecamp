{
 "cells": [
  {
   "cell_type": "code",
   "execution_count": 1,
   "metadata": {},
   "outputs": [
    {
     "name": "stdout",
     "output_type": "stream",
     "text": [
      "Hello, we're going to figure out your horoscope for today\n",
      "\n",
      "What month were you born? 12\n",
      "What day were you born? 1\n",
      "\n",
      "Your zodiac is Sagittarius and your horoscope for today is: a quiet day\n"
     ]
    }
   ],
   "source": [
    "import random\n",
    "\n",
    "horoscope = [\"it'll be a rainy day for you\", \"a quiet day\", \"stay inside\"]\n",
    "\n",
    "def returnZodiac(month, day):\n",
    "    if (month == 3 and day >= 21 or month == 4 and day <= 20):\n",
    "        return \"Aries\"\n",
    "    elif (month == 4 and day >= 21 or month == 5 and day <= 21):\n",
    "        return \"taurus\"\n",
    "    elif (month == 5 and day >= 22 or month == 6 and day <= 21):\n",
    "        return \"Gemini\"\n",
    "    elif (month == 6 and day >= 22 or month == 7 and day <= 22):\n",
    "        return \"Cancer\"\n",
    "    elif (month == 7 and day >= 23 or month == 8 and day <= 22):\n",
    "        return \"Leo\"\n",
    "    elif (month == 8 and day >= 23 or month == 9 and day <= 23):\n",
    "        return \"Virgo\"\n",
    "    elif (month == 9 and day >= 24 or month == 10 and day <= 23):\n",
    "        return \"Libra\"\n",
    "    elif (month == 10 and day >= 24 or month == 11 and day <= 22):\n",
    "        return \"Scorpio\"\n",
    "    elif (month == 11 and day >= 23 or month == 12 and day <= 21):\n",
    "        return \"Sagittarius\"\n",
    "    elif (month == 12 and day >= 22 or month == 1 and day <= 20):\n",
    "        return \"Capricorn\"\n",
    "    elif (month == 1 and day >= 21 or month == 2 and day <= 19):\n",
    "        return \"Aquarius\"\n",
    "    else: # elif (month == 2 and day >= 20 or month == 3 and day == 20):\n",
    "        return \"Pisces\"\n",
    "\n",
    "def pickHoroscope (zodiac):\n",
    "    return (zodiac, random.choice(horoscope))\n",
    "\n",
    "def main():\n",
    "    print(\"Hello, we're going to figure out your horoscope for today\")\n",
    "    month = int(input(\"\\nWhat month were you born? \"))\n",
    "    day = int(input(\"What day were you born? \"))\n",
    "    zodiac = returnZodiac(month, day)\n",
    "    print(\"\\nYour zodiac is %s and your horoscope for today is: %s\" % pickHoroscope(zodiac))\n",
    "    \n",
    "main()"
   ]
  }
 ],
 "metadata": {
  "kernelspec": {
   "display_name": "Python 3",
   "language": "python",
   "name": "python3"
  },
  "language_info": {
   "codemirror_mode": {
    "name": "ipython",
    "version": 3
   },
   "file_extension": ".py",
   "mimetype": "text/x-python",
   "name": "python",
   "nbconvert_exporter": "python",
   "pygments_lexer": "ipython3",
   "version": "3.7.3"
  }
 },
 "nbformat": 4,
 "nbformat_minor": 2
}
